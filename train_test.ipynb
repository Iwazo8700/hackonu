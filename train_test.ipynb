{
  "nbformat": 4,
  "nbformat_minor": 0,
  "metadata": {
    "colab": {
      "provenance": [],
      "collapsed_sections": []
    },
    "kernelspec": {
      "name": "python3",
      "display_name": "Python 3"
    },
    "language_info": {
      "name": "python"
    },
    "accelerator": "GPU"
  },
  "cells": [
    {
      "cell_type": "code",
      "source": [
        "!mkdir /root/.kaggle\n",
        "!mv kaggle.json /root/.kaggle\n",
        "!kaggle kernels output sndpkirwai/cyberbully-detection-text-classification -p ."
      ],
      "metadata": {
        "id": "yK0f6hz99-yA",
        "colab": {
          "base_uri": "https://localhost:8080/"
        },
        "outputId": "89246ea3-d2c2-4710-8c92-7b2938db8032"
      },
      "execution_count": 14,
      "outputs": [
        {
          "output_type": "stream",
          "name": "stdout",
          "text": [
            "mkdir: cannot create directory ‘/root/.kaggle’: File exists\n",
            "Warning: Your Kaggle API key is readable by other users on this system! To fix this, you can run 'chmod 600 /root/.kaggle/kaggle.json'\n",
            "Output file downloaded to ./clean_preprocess_twit_data.csv\n",
            "Output file downloaded to ./model.png\n",
            "Output file downloaded to ./sentiment_classification_model.h5\n",
            "Output file downloaded to ./tokenizer.pickle\n",
            "Kernel log downloaded to ./cyberbully-detection-text-classification.log \n"
          ]
        }
      ]
    },
    {
      "cell_type": "code",
      "execution_count": 2,
      "metadata": {
        "colab": {
          "base_uri": "https://localhost:8080/",
          "height": 206
        },
        "id": "vd7_Eyygh-9i",
        "outputId": "1230eb4a-88c9-4c0f-b2e8-dc8e6fe17aa5"
      },
      "outputs": [
        {
          "output_type": "execute_result",
          "data": {
            "text/plain": [
              "                                                Text Annotation oh_label  \\\n",
              "0  @halalflaws @biebervalue @greenlinerzjm I read...       none      0.0   \n",
              "1  @ShreyaBafna3 Now you idiots claim that people...       none      0.0   \n",
              "2  RT @Mooseoftorment Call me sexist, but when I ...     sexism      1.0   \n",
              "3  @g0ssipsquirrelx Wrong, ISIS follows the examp...     racism      1.0   \n",
              "4                             #mkr No No No No No No       none      0.0   \n",
              "\n",
              "                                        cleaned_text  \n",
              "0  halalflaws biebervalue greenlinerzjm read cont...  \n",
              "1  shreyabafna3 idiot claim people try stop becom...  \n",
              "2  rt mooseoftorment call sexist go auto place id...  \n",
              "3  sipsquirrelx wrong isi follow example mohammed...  \n",
              "4                                                mkr  "
            ],
            "text/html": [
              "\n",
              "  <div id=\"df-83866a93-c4ab-4c83-b5ad-81b340643b99\">\n",
              "    <div class=\"colab-df-container\">\n",
              "      <div>\n",
              "<style scoped>\n",
              "    .dataframe tbody tr th:only-of-type {\n",
              "        vertical-align: middle;\n",
              "    }\n",
              "\n",
              "    .dataframe tbody tr th {\n",
              "        vertical-align: top;\n",
              "    }\n",
              "\n",
              "    .dataframe thead th {\n",
              "        text-align: right;\n",
              "    }\n",
              "</style>\n",
              "<table border=\"1\" class=\"dataframe\">\n",
              "  <thead>\n",
              "    <tr style=\"text-align: right;\">\n",
              "      <th></th>\n",
              "      <th>Text</th>\n",
              "      <th>Annotation</th>\n",
              "      <th>oh_label</th>\n",
              "      <th>cleaned_text</th>\n",
              "    </tr>\n",
              "  </thead>\n",
              "  <tbody>\n",
              "    <tr>\n",
              "      <th>0</th>\n",
              "      <td>@halalflaws @biebervalue @greenlinerzjm I read...</td>\n",
              "      <td>none</td>\n",
              "      <td>0.0</td>\n",
              "      <td>halalflaws biebervalue greenlinerzjm read cont...</td>\n",
              "    </tr>\n",
              "    <tr>\n",
              "      <th>1</th>\n",
              "      <td>@ShreyaBafna3 Now you idiots claim that people...</td>\n",
              "      <td>none</td>\n",
              "      <td>0.0</td>\n",
              "      <td>shreyabafna3 idiot claim people try stop becom...</td>\n",
              "    </tr>\n",
              "    <tr>\n",
              "      <th>2</th>\n",
              "      <td>RT @Mooseoftorment Call me sexist, but when I ...</td>\n",
              "      <td>sexism</td>\n",
              "      <td>1.0</td>\n",
              "      <td>rt mooseoftorment call sexist go auto place id...</td>\n",
              "    </tr>\n",
              "    <tr>\n",
              "      <th>3</th>\n",
              "      <td>@g0ssipsquirrelx Wrong, ISIS follows the examp...</td>\n",
              "      <td>racism</td>\n",
              "      <td>1.0</td>\n",
              "      <td>sipsquirrelx wrong isi follow example mohammed...</td>\n",
              "    </tr>\n",
              "    <tr>\n",
              "      <th>4</th>\n",
              "      <td>#mkr No No No No No No</td>\n",
              "      <td>none</td>\n",
              "      <td>0.0</td>\n",
              "      <td>mkr</td>\n",
              "    </tr>\n",
              "  </tbody>\n",
              "</table>\n",
              "</div>\n",
              "      <button class=\"colab-df-convert\" onclick=\"convertToInteractive('df-83866a93-c4ab-4c83-b5ad-81b340643b99')\"\n",
              "              title=\"Convert this dataframe to an interactive table.\"\n",
              "              style=\"display:none;\">\n",
              "        \n",
              "  <svg xmlns=\"http://www.w3.org/2000/svg\" height=\"24px\"viewBox=\"0 0 24 24\"\n",
              "       width=\"24px\">\n",
              "    <path d=\"M0 0h24v24H0V0z\" fill=\"none\"/>\n",
              "    <path d=\"M18.56 5.44l.94 2.06.94-2.06 2.06-.94-2.06-.94-.94-2.06-.94 2.06-2.06.94zm-11 1L8.5 8.5l.94-2.06 2.06-.94-2.06-.94L8.5 2.5l-.94 2.06-2.06.94zm10 10l.94 2.06.94-2.06 2.06-.94-2.06-.94-.94-2.06-.94 2.06-2.06.94z\"/><path d=\"M17.41 7.96l-1.37-1.37c-.4-.4-.92-.59-1.43-.59-.52 0-1.04.2-1.43.59L10.3 9.45l-7.72 7.72c-.78.78-.78 2.05 0 2.83L4 21.41c.39.39.9.59 1.41.59.51 0 1.02-.2 1.41-.59l7.78-7.78 2.81-2.81c.8-.78.8-2.07 0-2.86zM5.41 20L4 18.59l7.72-7.72 1.47 1.35L5.41 20z\"/>\n",
              "  </svg>\n",
              "      </button>\n",
              "      \n",
              "  <style>\n",
              "    .colab-df-container {\n",
              "      display:flex;\n",
              "      flex-wrap:wrap;\n",
              "      gap: 12px;\n",
              "    }\n",
              "\n",
              "    .colab-df-convert {\n",
              "      background-color: #E8F0FE;\n",
              "      border: none;\n",
              "      border-radius: 50%;\n",
              "      cursor: pointer;\n",
              "      display: none;\n",
              "      fill: #1967D2;\n",
              "      height: 32px;\n",
              "      padding: 0 0 0 0;\n",
              "      width: 32px;\n",
              "    }\n",
              "\n",
              "    .colab-df-convert:hover {\n",
              "      background-color: #E2EBFA;\n",
              "      box-shadow: 0px 1px 2px rgba(60, 64, 67, 0.3), 0px 1px 3px 1px rgba(60, 64, 67, 0.15);\n",
              "      fill: #174EA6;\n",
              "    }\n",
              "\n",
              "    [theme=dark] .colab-df-convert {\n",
              "      background-color: #3B4455;\n",
              "      fill: #D2E3FC;\n",
              "    }\n",
              "\n",
              "    [theme=dark] .colab-df-convert:hover {\n",
              "      background-color: #434B5C;\n",
              "      box-shadow: 0px 1px 3px 1px rgba(0, 0, 0, 0.15);\n",
              "      filter: drop-shadow(0px 1px 2px rgba(0, 0, 0, 0.3));\n",
              "      fill: #FFFFFF;\n",
              "    }\n",
              "  </style>\n",
              "\n",
              "      <script>\n",
              "        const buttonEl =\n",
              "          document.querySelector('#df-83866a93-c4ab-4c83-b5ad-81b340643b99 button.colab-df-convert');\n",
              "        buttonEl.style.display =\n",
              "          google.colab.kernel.accessAllowed ? 'block' : 'none';\n",
              "\n",
              "        async function convertToInteractive(key) {\n",
              "          const element = document.querySelector('#df-83866a93-c4ab-4c83-b5ad-81b340643b99');\n",
              "          const dataTable =\n",
              "            await google.colab.kernel.invokeFunction('convertToInteractive',\n",
              "                                                     [key], {});\n",
              "          if (!dataTable) return;\n",
              "\n",
              "          const docLinkHtml = 'Like what you see? Visit the ' +\n",
              "            '<a target=\"_blank\" href=https://colab.research.google.com/notebooks/data_table.ipynb>data table notebook</a>'\n",
              "            + ' to learn more about interactive tables.';\n",
              "          element.innerHTML = '';\n",
              "          dataTable['output_type'] = 'display_data';\n",
              "          await google.colab.output.renderOutput(dataTable, element);\n",
              "          const docLink = document.createElement('div');\n",
              "          docLink.innerHTML = docLinkHtml;\n",
              "          element.appendChild(docLink);\n",
              "        }\n",
              "      </script>\n",
              "    </div>\n",
              "  </div>\n",
              "  "
            ]
          },
          "metadata": {},
          "execution_count": 2
        }
      ],
      "source": [
        "import numpy as np\n",
        "import pandas as pd\n",
        "from sklearn.model_selection import train_test_split\n",
        "from sklearn.feature_extraction.text import TfidfVectorizer\n",
        "from sklearn.naive_bayes import MultinomialNB\n",
        "from sklearn.metrics import accuracy_score\n",
        "from sklearn.multiclass import OneVsRestClassifier\n",
        "from sklearn.svm import LinearSVC\n",
        "from sklearn.linear_model import LogisticRegression\n",
        "from sklearn.pipeline import Pipeline\n",
        "\n",
        "from keras.preprocessing.text import one_hot\n",
        "from keras.preprocessing.sequence import pad_sequences\n",
        "from keras.models import Sequential\n",
        "from keras.layers.core import Activation, Dropout, Dense\n",
        "from keras.layers import Flatten, LSTM\n",
        "from keras.layers import GlobalMaxPooling1D\n",
        "from keras.models import Model\n",
        "from keras.layers.embeddings import Embedding\n",
        "from keras.preprocessing.text import Tokenizer\n",
        "from keras.layers import Input\n",
        "from keras.layers.merge import Concatenate\n",
        "\n",
        "\n",
        "df = pd.read_csv(\"clean_preprocess_twit_data.csv\")\n",
        "df =df.where(pd.notnull(df), 'none')\n",
        "df.head()"
      ]
    },
    {
      "cell_type": "code",
      "source": [
        "from sklearn.model_selection import train_test_split\n",
        "X_train, X_test, y_train, y_test = train_test_split(df['cleaned_text'], df['Annotation'], test_size=0.33, random_state=42)"
      ],
      "metadata": {
        "id": "LYFXYNuDkrSz"
      },
      "execution_count": 3,
      "outputs": []
    },
    {
      "cell_type": "code",
      "source": [
        "categories = df[\"Annotation\"].unique()\n",
        "categories"
      ],
      "metadata": {
        "colab": {
          "base_uri": "https://localhost:8080/"
        },
        "id": "m6zRHTPwmLpR",
        "outputId": "dbe4b6a5-5958-4ebc-e1ee-16d88cddc0ef"
      },
      "execution_count": 4,
      "outputs": [
        {
          "output_type": "execute_result",
          "data": {
            "text/plain": [
              "array(['none', 'sexism', 'racism'], dtype=object)"
            ]
          },
          "metadata": {},
          "execution_count": 4
        }
      ]
    },
    {
      "cell_type": "code",
      "source": [
        "NB_pipeline = Pipeline([\n",
        "                ('tfidf', TfidfVectorizer()),\n",
        "                ('clf', OneVsRestClassifier(MultinomialNB(\n",
        "                    fit_prior=True, class_prior=None))),\n",
        "            ])\n",
        "for category in categories:\n",
        "    print('... Processing {}'.format(category))\n",
        "    # train the model using X_dtm & y\n",
        "    NB_pipeline.fit(X_train, y_train == category)\n",
        "    # compute the testing accuracy\n",
        "    prediction = NB_pipeline.predict(X_test)\n",
        "    print('Test accuracy is {}'.format(accuracy_score(y_test == category, prediction)))"
      ],
      "metadata": {
        "colab": {
          "base_uri": "https://localhost:8080/"
        },
        "id": "jZ0J8DDAlsTQ",
        "outputId": "2e71d28f-761a-4347-c477-b8d8820d40a1"
      },
      "execution_count": 5,
      "outputs": [
        {
          "output_type": "stream",
          "name": "stdout",
          "text": [
            "... Processing none\n",
            "Test accuracy is 0.7969789606185937\n",
            "... Processing sexism\n",
            "Test accuracy is 0.8370796619313073\n",
            "... Processing racism\n",
            "Test accuracy is 0.9018162201042977\n"
          ]
        }
      ]
    },
    {
      "cell_type": "code",
      "source": [
        "SVC_pipeline = Pipeline([\n",
        "                ('tfidf', TfidfVectorizer()),\n",
        "                ('clf', OneVsRestClassifier(LinearSVC(), n_jobs=1)),\n",
        "            ])\n",
        "for category in categories:\n",
        "    print('... Processing {}'.format(category))\n",
        "    # train the model using X_dtm & y\n",
        "    SVC_pipeline.fit(X_train, y_train == category)\n",
        "    # compute the testing accuracy\n",
        "    prediction = SVC_pipeline.predict(X_test)\n",
        "    print('Test accuracy is {}'.format(accuracy_score(y_test == category, prediction)))"
      ],
      "metadata": {
        "colab": {
          "base_uri": "https://localhost:8080/"
        },
        "id": "mqNcEAq7onCZ",
        "outputId": "e357b1d2-f1b4-4286-dad8-0d2c5fe39ccb"
      },
      "execution_count": 6,
      "outputs": [
        {
          "output_type": "stream",
          "name": "stdout",
          "text": [
            "... Processing none\n",
            "Test accuracy is 0.8401366660672541\n",
            "... Processing sexism\n",
            "Test accuracy is 0.9036144578313253\n",
            "... Processing racism\n",
            "Test accuracy is 0.9426362165078224\n"
          ]
        }
      ]
    },
    {
      "cell_type": "code",
      "source": [
        "LogReg_pipeline = Pipeline([\n",
        "                ('tfidf', TfidfVectorizer()),\n",
        "                ('clf', OneVsRestClassifier(LogisticRegression(solver='sag'), n_jobs=1)),\n",
        "            ])\n",
        "for category in categories:\n",
        "    print('... Processing {}'.format(category))\n",
        "    # train the model using X_dtm & y\n",
        "    LogReg_pipeline.fit(X_train, y_train == category)\n",
        "    # compute the testing accuracy\n",
        "    prediction = LogReg_pipeline.predict(X_test)\n",
        "    print('Test accuracy is {}'.format(accuracy_score(y_test == category, prediction)))"
      ],
      "metadata": {
        "colab": {
          "base_uri": "https://localhost:8080/"
        },
        "id": "zEgYjPGsoyVm",
        "outputId": "2207d2d3-2f94-4eae-edd9-ea248ea38684"
      },
      "execution_count": 7,
      "outputs": [
        {
          "output_type": "stream",
          "name": "stdout",
          "text": [
            "... Processing none\n",
            "Test accuracy is 0.8268297068872505\n",
            "... Processing sexism\n",
            "Test accuracy is 0.8831145477432116\n",
            "... Processing racism\n",
            "Test accuracy is 0.9320266139183601\n"
          ]
        }
      ]
    },
    {
      "cell_type": "code",
      "source": [
        "df.head()"
      ],
      "metadata": {
        "colab": {
          "base_uri": "https://localhost:8080/",
          "height": 206
        },
        "id": "BZgLo3NM3_-1",
        "outputId": "2ff0a3f1-3b20-40e6-9f60-8f743b822f22"
      },
      "execution_count": 8,
      "outputs": [
        {
          "output_type": "execute_result",
          "data": {
            "text/plain": [
              "                                                Text Annotation oh_label  \\\n",
              "0  @halalflaws @biebervalue @greenlinerzjm I read...       none      0.0   \n",
              "1  @ShreyaBafna3 Now you idiots claim that people...       none      0.0   \n",
              "2  RT @Mooseoftorment Call me sexist, but when I ...     sexism      1.0   \n",
              "3  @g0ssipsquirrelx Wrong, ISIS follows the examp...     racism      1.0   \n",
              "4                             #mkr No No No No No No       none      0.0   \n",
              "\n",
              "                                        cleaned_text  \n",
              "0  halalflaws biebervalue greenlinerzjm read cont...  \n",
              "1  shreyabafna3 idiot claim people try stop becom...  \n",
              "2  rt mooseoftorment call sexist go auto place id...  \n",
              "3  sipsquirrelx wrong isi follow example mohammed...  \n",
              "4                                                mkr  "
            ],
            "text/html": [
              "\n",
              "  <div id=\"df-ada35f97-2165-405b-ac0e-3535ff1b895f\">\n",
              "    <div class=\"colab-df-container\">\n",
              "      <div>\n",
              "<style scoped>\n",
              "    .dataframe tbody tr th:only-of-type {\n",
              "        vertical-align: middle;\n",
              "    }\n",
              "\n",
              "    .dataframe tbody tr th {\n",
              "        vertical-align: top;\n",
              "    }\n",
              "\n",
              "    .dataframe thead th {\n",
              "        text-align: right;\n",
              "    }\n",
              "</style>\n",
              "<table border=\"1\" class=\"dataframe\">\n",
              "  <thead>\n",
              "    <tr style=\"text-align: right;\">\n",
              "      <th></th>\n",
              "      <th>Text</th>\n",
              "      <th>Annotation</th>\n",
              "      <th>oh_label</th>\n",
              "      <th>cleaned_text</th>\n",
              "    </tr>\n",
              "  </thead>\n",
              "  <tbody>\n",
              "    <tr>\n",
              "      <th>0</th>\n",
              "      <td>@halalflaws @biebervalue @greenlinerzjm I read...</td>\n",
              "      <td>none</td>\n",
              "      <td>0.0</td>\n",
              "      <td>halalflaws biebervalue greenlinerzjm read cont...</td>\n",
              "    </tr>\n",
              "    <tr>\n",
              "      <th>1</th>\n",
              "      <td>@ShreyaBafna3 Now you idiots claim that people...</td>\n",
              "      <td>none</td>\n",
              "      <td>0.0</td>\n",
              "      <td>shreyabafna3 idiot claim people try stop becom...</td>\n",
              "    </tr>\n",
              "    <tr>\n",
              "      <th>2</th>\n",
              "      <td>RT @Mooseoftorment Call me sexist, but when I ...</td>\n",
              "      <td>sexism</td>\n",
              "      <td>1.0</td>\n",
              "      <td>rt mooseoftorment call sexist go auto place id...</td>\n",
              "    </tr>\n",
              "    <tr>\n",
              "      <th>3</th>\n",
              "      <td>@g0ssipsquirrelx Wrong, ISIS follows the examp...</td>\n",
              "      <td>racism</td>\n",
              "      <td>1.0</td>\n",
              "      <td>sipsquirrelx wrong isi follow example mohammed...</td>\n",
              "    </tr>\n",
              "    <tr>\n",
              "      <th>4</th>\n",
              "      <td>#mkr No No No No No No</td>\n",
              "      <td>none</td>\n",
              "      <td>0.0</td>\n",
              "      <td>mkr</td>\n",
              "    </tr>\n",
              "  </tbody>\n",
              "</table>\n",
              "</div>\n",
              "      <button class=\"colab-df-convert\" onclick=\"convertToInteractive('df-ada35f97-2165-405b-ac0e-3535ff1b895f')\"\n",
              "              title=\"Convert this dataframe to an interactive table.\"\n",
              "              style=\"display:none;\">\n",
              "        \n",
              "  <svg xmlns=\"http://www.w3.org/2000/svg\" height=\"24px\"viewBox=\"0 0 24 24\"\n",
              "       width=\"24px\">\n",
              "    <path d=\"M0 0h24v24H0V0z\" fill=\"none\"/>\n",
              "    <path d=\"M18.56 5.44l.94 2.06.94-2.06 2.06-.94-2.06-.94-.94-2.06-.94 2.06-2.06.94zm-11 1L8.5 8.5l.94-2.06 2.06-.94-2.06-.94L8.5 2.5l-.94 2.06-2.06.94zm10 10l.94 2.06.94-2.06 2.06-.94-2.06-.94-.94-2.06-.94 2.06-2.06.94z\"/><path d=\"M17.41 7.96l-1.37-1.37c-.4-.4-.92-.59-1.43-.59-.52 0-1.04.2-1.43.59L10.3 9.45l-7.72 7.72c-.78.78-.78 2.05 0 2.83L4 21.41c.39.39.9.59 1.41.59.51 0 1.02-.2 1.41-.59l7.78-7.78 2.81-2.81c.8-.78.8-2.07 0-2.86zM5.41 20L4 18.59l7.72-7.72 1.47 1.35L5.41 20z\"/>\n",
              "  </svg>\n",
              "      </button>\n",
              "      \n",
              "  <style>\n",
              "    .colab-df-container {\n",
              "      display:flex;\n",
              "      flex-wrap:wrap;\n",
              "      gap: 12px;\n",
              "    }\n",
              "\n",
              "    .colab-df-convert {\n",
              "      background-color: #E8F0FE;\n",
              "      border: none;\n",
              "      border-radius: 50%;\n",
              "      cursor: pointer;\n",
              "      display: none;\n",
              "      fill: #1967D2;\n",
              "      height: 32px;\n",
              "      padding: 0 0 0 0;\n",
              "      width: 32px;\n",
              "    }\n",
              "\n",
              "    .colab-df-convert:hover {\n",
              "      background-color: #E2EBFA;\n",
              "      box-shadow: 0px 1px 2px rgba(60, 64, 67, 0.3), 0px 1px 3px 1px rgba(60, 64, 67, 0.15);\n",
              "      fill: #174EA6;\n",
              "    }\n",
              "\n",
              "    [theme=dark] .colab-df-convert {\n",
              "      background-color: #3B4455;\n",
              "      fill: #D2E3FC;\n",
              "    }\n",
              "\n",
              "    [theme=dark] .colab-df-convert:hover {\n",
              "      background-color: #434B5C;\n",
              "      box-shadow: 0px 1px 3px 1px rgba(0, 0, 0, 0.15);\n",
              "      filter: drop-shadow(0px 1px 2px rgba(0, 0, 0, 0.3));\n",
              "      fill: #FFFFFF;\n",
              "    }\n",
              "  </style>\n",
              "\n",
              "      <script>\n",
              "        const buttonEl =\n",
              "          document.querySelector('#df-ada35f97-2165-405b-ac0e-3535ff1b895f button.colab-df-convert');\n",
              "        buttonEl.style.display =\n",
              "          google.colab.kernel.accessAllowed ? 'block' : 'none';\n",
              "\n",
              "        async function convertToInteractive(key) {\n",
              "          const element = document.querySelector('#df-ada35f97-2165-405b-ac0e-3535ff1b895f');\n",
              "          const dataTable =\n",
              "            await google.colab.kernel.invokeFunction('convertToInteractive',\n",
              "                                                     [key], {});\n",
              "          if (!dataTable) return;\n",
              "\n",
              "          const docLinkHtml = 'Like what you see? Visit the ' +\n",
              "            '<a target=\"_blank\" href=https://colab.research.google.com/notebooks/data_table.ipynb>data table notebook</a>'\n",
              "            + ' to learn more about interactive tables.';\n",
              "          element.innerHTML = '';\n",
              "          dataTable['output_type'] = 'display_data';\n",
              "          await google.colab.output.renderOutput(dataTable, element);\n",
              "          const docLink = document.createElement('div');\n",
              "          docLink.innerHTML = docLinkHtml;\n",
              "          element.appendChild(docLink);\n",
              "        }\n",
              "      </script>\n",
              "    </div>\n",
              "  </div>\n",
              "  "
            ]
          },
          "metadata": {},
          "execution_count": 8
        }
      ]
    },
    {
      "cell_type": "code",
      "source": [
        "one_hot = pd.get_dummies(df['Annotation'])\n",
        "df_rnn = df.drop(['Annotation', 'oh_label'],axis = 1)\n",
        "df_rnn = df_rnn.join(one_hot)\n",
        "df_rnn"
      ],
      "metadata": {
        "colab": {
          "base_uri": "https://localhost:8080/",
          "height": 467
        },
        "id": "vnqrc4aO5V3m",
        "outputId": "bfa52b7a-f725-42cb-db45-1a1f3eef9218"
      },
      "execution_count": 10,
      "outputs": [
        {
          "output_type": "execute_result",
          "data": {
            "text/plain": [
              "                                                    Text  \\\n",
              "0      @halalflaws @biebervalue @greenlinerzjm I read...   \n",
              "1      @ShreyaBafna3 Now you idiots claim that people...   \n",
              "2      RT @Mooseoftorment Call me sexist, but when I ...   \n",
              "3      @g0ssipsquirrelx Wrong, ISIS follows the examp...   \n",
              "4                                 #mkr No No No No No No   \n",
              "...                                                  ...   \n",
              "16846  Feeling so sorry for the girls, they should be...   \n",
              "16847  #MKR 'pretty good dishes we're happy with' - O...   \n",
              "16848  RT @colonelkickhead: Deconstructed lemon tart!...   \n",
              "16849  @versacezaynx @nyazpolitics @greenlinerzjm You...   \n",
              "16850  And before you protest that you're *not* mad, ...   \n",
              "\n",
              "                                            cleaned_text  none  racism  sexism  \n",
              "0      halalflaws biebervalue greenlinerzjm read cont...     1       0       0  \n",
              "1      shreyabafna3 idiot claim people try stop becom...     1       0       0  \n",
              "2      rt mooseoftorment call sexist go auto place id...     0       0       1  \n",
              "3      sipsquirrelx wrong isi follow example mohammed...     0       1       0  \n",
              "4                                                    mkr     1       0       0  \n",
              "...                                                  ...   ...     ...     ...  \n",
              "16846         feel sorry girl safe kat andre go home mkr     1       0       0  \n",
              "16847  mkr pretty good dish happy ok well im never ea...     1       0       0  \n",
              "16848  rt colonelkickheatonguestickingoutcheekyplayfu...     1       0       0  \n",
              "16849  versacezaynx nyazpolitics greenlinerzjm stupid...     1       0       0  \n",
              "16850  protest youre mad there much reason youd tweet...     1       0       0  \n",
              "\n",
              "[16851 rows x 5 columns]"
            ],
            "text/html": [
              "\n",
              "  <div id=\"df-c5736bdb-e59c-4870-8abb-bdaf5b30de58\">\n",
              "    <div class=\"colab-df-container\">\n",
              "      <div>\n",
              "<style scoped>\n",
              "    .dataframe tbody tr th:only-of-type {\n",
              "        vertical-align: middle;\n",
              "    }\n",
              "\n",
              "    .dataframe tbody tr th {\n",
              "        vertical-align: top;\n",
              "    }\n",
              "\n",
              "    .dataframe thead th {\n",
              "        text-align: right;\n",
              "    }\n",
              "</style>\n",
              "<table border=\"1\" class=\"dataframe\">\n",
              "  <thead>\n",
              "    <tr style=\"text-align: right;\">\n",
              "      <th></th>\n",
              "      <th>Text</th>\n",
              "      <th>cleaned_text</th>\n",
              "      <th>none</th>\n",
              "      <th>racism</th>\n",
              "      <th>sexism</th>\n",
              "    </tr>\n",
              "  </thead>\n",
              "  <tbody>\n",
              "    <tr>\n",
              "      <th>0</th>\n",
              "      <td>@halalflaws @biebervalue @greenlinerzjm I read...</td>\n",
              "      <td>halalflaws biebervalue greenlinerzjm read cont...</td>\n",
              "      <td>1</td>\n",
              "      <td>0</td>\n",
              "      <td>0</td>\n",
              "    </tr>\n",
              "    <tr>\n",
              "      <th>1</th>\n",
              "      <td>@ShreyaBafna3 Now you idiots claim that people...</td>\n",
              "      <td>shreyabafna3 idiot claim people try stop becom...</td>\n",
              "      <td>1</td>\n",
              "      <td>0</td>\n",
              "      <td>0</td>\n",
              "    </tr>\n",
              "    <tr>\n",
              "      <th>2</th>\n",
              "      <td>RT @Mooseoftorment Call me sexist, but when I ...</td>\n",
              "      <td>rt mooseoftorment call sexist go auto place id...</td>\n",
              "      <td>0</td>\n",
              "      <td>0</td>\n",
              "      <td>1</td>\n",
              "    </tr>\n",
              "    <tr>\n",
              "      <th>3</th>\n",
              "      <td>@g0ssipsquirrelx Wrong, ISIS follows the examp...</td>\n",
              "      <td>sipsquirrelx wrong isi follow example mohammed...</td>\n",
              "      <td>0</td>\n",
              "      <td>1</td>\n",
              "      <td>0</td>\n",
              "    </tr>\n",
              "    <tr>\n",
              "      <th>4</th>\n",
              "      <td>#mkr No No No No No No</td>\n",
              "      <td>mkr</td>\n",
              "      <td>1</td>\n",
              "      <td>0</td>\n",
              "      <td>0</td>\n",
              "    </tr>\n",
              "    <tr>\n",
              "      <th>...</th>\n",
              "      <td>...</td>\n",
              "      <td>...</td>\n",
              "      <td>...</td>\n",
              "      <td>...</td>\n",
              "      <td>...</td>\n",
              "    </tr>\n",
              "    <tr>\n",
              "      <th>16846</th>\n",
              "      <td>Feeling so sorry for the girls, they should be...</td>\n",
              "      <td>feel sorry girl safe kat andre go home mkr</td>\n",
              "      <td>1</td>\n",
              "      <td>0</td>\n",
              "      <td>0</td>\n",
              "    </tr>\n",
              "    <tr>\n",
              "      <th>16847</th>\n",
              "      <td>#MKR 'pretty good dishes we're happy with' - O...</td>\n",
              "      <td>mkr pretty good dish happy ok well im never ea...</td>\n",
              "      <td>1</td>\n",
              "      <td>0</td>\n",
              "      <td>0</td>\n",
              "    </tr>\n",
              "    <tr>\n",
              "      <th>16848</th>\n",
              "      <td>RT @colonelkickhead: Deconstructed lemon tart!...</td>\n",
              "      <td>rt colonelkickheatonguestickingoutcheekyplayfu...</td>\n",
              "      <td>1</td>\n",
              "      <td>0</td>\n",
              "      <td>0</td>\n",
              "    </tr>\n",
              "    <tr>\n",
              "      <th>16849</th>\n",
              "      <td>@versacezaynx @nyazpolitics @greenlinerzjm You...</td>\n",
              "      <td>versacezaynx nyazpolitics greenlinerzjm stupid...</td>\n",
              "      <td>1</td>\n",
              "      <td>0</td>\n",
              "      <td>0</td>\n",
              "    </tr>\n",
              "    <tr>\n",
              "      <th>16850</th>\n",
              "      <td>And before you protest that you're *not* mad, ...</td>\n",
              "      <td>protest youre mad there much reason youd tweet...</td>\n",
              "      <td>1</td>\n",
              "      <td>0</td>\n",
              "      <td>0</td>\n",
              "    </tr>\n",
              "  </tbody>\n",
              "</table>\n",
              "<p>16851 rows × 5 columns</p>\n",
              "</div>\n",
              "      <button class=\"colab-df-convert\" onclick=\"convertToInteractive('df-c5736bdb-e59c-4870-8abb-bdaf5b30de58')\"\n",
              "              title=\"Convert this dataframe to an interactive table.\"\n",
              "              style=\"display:none;\">\n",
              "        \n",
              "  <svg xmlns=\"http://www.w3.org/2000/svg\" height=\"24px\"viewBox=\"0 0 24 24\"\n",
              "       width=\"24px\">\n",
              "    <path d=\"M0 0h24v24H0V0z\" fill=\"none\"/>\n",
              "    <path d=\"M18.56 5.44l.94 2.06.94-2.06 2.06-.94-2.06-.94-.94-2.06-.94 2.06-2.06.94zm-11 1L8.5 8.5l.94-2.06 2.06-.94-2.06-.94L8.5 2.5l-.94 2.06-2.06.94zm10 10l.94 2.06.94-2.06 2.06-.94-2.06-.94-.94-2.06-.94 2.06-2.06.94z\"/><path d=\"M17.41 7.96l-1.37-1.37c-.4-.4-.92-.59-1.43-.59-.52 0-1.04.2-1.43.59L10.3 9.45l-7.72 7.72c-.78.78-.78 2.05 0 2.83L4 21.41c.39.39.9.59 1.41.59.51 0 1.02-.2 1.41-.59l7.78-7.78 2.81-2.81c.8-.78.8-2.07 0-2.86zM5.41 20L4 18.59l7.72-7.72 1.47 1.35L5.41 20z\"/>\n",
              "  </svg>\n",
              "      </button>\n",
              "      \n",
              "  <style>\n",
              "    .colab-df-container {\n",
              "      display:flex;\n",
              "      flex-wrap:wrap;\n",
              "      gap: 12px;\n",
              "    }\n",
              "\n",
              "    .colab-df-convert {\n",
              "      background-color: #E8F0FE;\n",
              "      border: none;\n",
              "      border-radius: 50%;\n",
              "      cursor: pointer;\n",
              "      display: none;\n",
              "      fill: #1967D2;\n",
              "      height: 32px;\n",
              "      padding: 0 0 0 0;\n",
              "      width: 32px;\n",
              "    }\n",
              "\n",
              "    .colab-df-convert:hover {\n",
              "      background-color: #E2EBFA;\n",
              "      box-shadow: 0px 1px 2px rgba(60, 64, 67, 0.3), 0px 1px 3px 1px rgba(60, 64, 67, 0.15);\n",
              "      fill: #174EA6;\n",
              "    }\n",
              "\n",
              "    [theme=dark] .colab-df-convert {\n",
              "      background-color: #3B4455;\n",
              "      fill: #D2E3FC;\n",
              "    }\n",
              "\n",
              "    [theme=dark] .colab-df-convert:hover {\n",
              "      background-color: #434B5C;\n",
              "      box-shadow: 0px 1px 3px 1px rgba(0, 0, 0, 0.15);\n",
              "      filter: drop-shadow(0px 1px 2px rgba(0, 0, 0, 0.3));\n",
              "      fill: #FFFFFF;\n",
              "    }\n",
              "  </style>\n",
              "\n",
              "      <script>\n",
              "        const buttonEl =\n",
              "          document.querySelector('#df-c5736bdb-e59c-4870-8abb-bdaf5b30de58 button.colab-df-convert');\n",
              "        buttonEl.style.display =\n",
              "          google.colab.kernel.accessAllowed ? 'block' : 'none';\n",
              "\n",
              "        async function convertToInteractive(key) {\n",
              "          const element = document.querySelector('#df-c5736bdb-e59c-4870-8abb-bdaf5b30de58');\n",
              "          const dataTable =\n",
              "            await google.colab.kernel.invokeFunction('convertToInteractive',\n",
              "                                                     [key], {});\n",
              "          if (!dataTable) return;\n",
              "\n",
              "          const docLinkHtml = 'Like what you see? Visit the ' +\n",
              "            '<a target=\"_blank\" href=https://colab.research.google.com/notebooks/data_table.ipynb>data table notebook</a>'\n",
              "            + ' to learn more about interactive tables.';\n",
              "          element.innerHTML = '';\n",
              "          dataTable['output_type'] = 'display_data';\n",
              "          await google.colab.output.renderOutput(dataTable, element);\n",
              "          const docLink = document.createElement('div');\n",
              "          docLink.innerHTML = docLinkHtml;\n",
              "          element.appendChild(docLink);\n",
              "        }\n",
              "      </script>\n",
              "    </div>\n",
              "  </div>\n",
              "  "
            ]
          },
          "metadata": {},
          "execution_count": 10
        }
      ]
    },
    {
      "cell_type": "code",
      "source": [
        "X_train, X_test, y_train, y_test = train_test_split(df_rnn['cleaned_text'], df_rnn[['none',\t'racism', 'sexism']], test_size=0.33, random_state=19)"
      ],
      "metadata": {
        "id": "3q_Cfa9L3_DX"
      },
      "execution_count": 32,
      "outputs": []
    },
    {
      "cell_type": "code",
      "source": [
        "tokenizer = Tokenizer(num_words=5000)\n",
        "tokenizer.fit_on_texts(X_train)\n",
        "\n",
        "X_train = tokenizer.texts_to_sequences(X_train)\n",
        "X_test = tokenizer.texts_to_sequences(X_test)\n",
        "\n",
        "vocab_size = len(tokenizer.word_index) + 1\n",
        "\n",
        "maxlen = 200\n",
        "\n",
        "X_train = pad_sequences(X_train, padding='post', maxlen=maxlen)\n",
        "X_test = pad_sequences(X_test, padding='post', maxlen=maxlen)"
      ],
      "metadata": {
        "id": "_Ncxo8a0qUuN"
      },
      "execution_count": 33,
      "outputs": []
    },
    {
      "cell_type": "code",
      "source": [
        "!kaggle datasets download -d danielwillgeorge/glove6b100dtxt\n",
        "!unzip glove6b100dtxt.zip"
      ],
      "metadata": {
        "colab": {
          "base_uri": "https://localhost:8080/"
        },
        "id": "HUYCE11yxS69",
        "outputId": "b1123921-23e4-46cf-ad9b-8323910b7fc5"
      },
      "execution_count": 23,
      "outputs": [
        {
          "output_type": "stream",
          "name": "stdout",
          "text": [
            "Warning: Your Kaggle API key is readable by other users on this system! To fix this, you can run 'chmod 600 /root/.kaggle/kaggle.json'\n",
            "glove6b100dtxt.zip: Skipping, found more recently modified local copy (use --force to force download)\n",
            "Archive:  glove6b100dtxt.zip\n",
            "replace glove.6B.100d.txt? [y]es, [n]o, [A]ll, [N]one, [r]ename: n\n"
          ]
        }
      ]
    },
    {
      "cell_type": "code",
      "source": [
        "from numpy import array\n",
        "from numpy import asarray\n",
        "from numpy import zeros\n",
        "\n",
        "embeddings_dictionary = dict()\n",
        "\n",
        "glove_file = open('glove.6B.100d.txt', encoding=\"utf8\")\n",
        "\n",
        "for line in glove_file:\n",
        "    records = line.split()\n",
        "    word = records[0]\n",
        "    vector_dimensions = asarray(records[1:], dtype='float32')\n",
        "    embeddings_dictionary[word] = vector_dimensions\n",
        "glove_file.close()\n",
        "\n",
        "embedding_matrix = zeros((vocab_size, 100))\n",
        "for word, index in tokenizer.word_index.items():\n",
        "    embedding_vector = embeddings_dictionary.get(word)\n",
        "    if embedding_vector is not None:\n",
        "        embedding_matrix[index] = embedding_vector"
      ],
      "metadata": {
        "id": "lNYZewObswRB"
      },
      "execution_count": 34,
      "outputs": []
    },
    {
      "cell_type": "code",
      "source": [
        "deep_inputs = Input(shape=(maxlen,))\n",
        "embedding_layer = Embedding(vocab_size, 100, weights=[embedding_matrix], trainable=False)(deep_inputs)\n",
        "LSTM_Layer_1 = LSTM(128)(embedding_layer)\n",
        "dense_layer_1 = Dense(3, activation='sigmoid')(LSTM_Layer_1)\n",
        "model = Model(inputs=deep_inputs, outputs=dense_layer_1)\n",
        "\n",
        "model.compile(loss='binary_crossentropy', optimizer='adam', metrics=['acc'])"
      ],
      "metadata": {
        "id": "b3HszY7RzrTR"
      },
      "execution_count": 35,
      "outputs": []
    },
    {
      "cell_type": "code",
      "source": [
        "from keras.utils.vis_utils  import plot_model\n",
        "plot_model(model, to_file='model_plot4a.png', show_shapes=True, show_layer_names=True)"
      ],
      "metadata": {
        "colab": {
          "base_uri": "https://localhost:8080/",
          "height": 422
        },
        "id": "W3hFjm2ezxS2",
        "outputId": "bf6baecd-0c0b-4683-8a1d-f658ce4a8ebf"
      },
      "execution_count": 36,
      "outputs": [
        {
          "output_type": "execute_result",
          "data": {
            "image/png": "[encoded data removed]",
            "text/plain": [
              "<IPython.core.display.Image object>"
            ]
          },
          "metadata": {},
          "execution_count": 36
        }
      ]
    },
    {
      "cell_type": "code",
      "source": [
        "history = model.fit(X_train, y_train, batch_size=128, epochs=10, verbose=1, validation_split=0.2)\n"
      ],
      "metadata": {
        "colab": {
          "base_uri": "https://localhost:8080/"
        },
        "id": "bMd5hMh30Cot",
        "outputId": "1df84202-2fbf-4fcb-ff27-3d38a298b613"
      },
      "execution_count": 38,
      "outputs": [
        {
          "output_type": "stream",
          "name": "stdout",
          "text": [
            "Epoch 1/10\n",
            "71/71 [==============================] - 1s 18ms/step - loss: 0.5020 - acc: 0.6766 - val_loss: 0.4893 - val_acc: 0.6900\n",
            "Epoch 2/10\n",
            "71/71 [==============================] - 1s 16ms/step - loss: 0.5014 - acc: 0.6766 - val_loss: 0.4895 - val_acc: 0.6900\n",
            "Epoch 3/10\n",
            "71/71 [==============================] - 1s 16ms/step - loss: 0.5015 - acc: 0.6766 - val_loss: 0.4886 - val_acc: 0.6900\n",
            "Epoch 4/10\n",
            "71/71 [==============================] - 1s 16ms/step - loss: 0.5012 - acc: 0.6766 - val_loss: 0.4901 - val_acc: 0.6900\n",
            "Epoch 5/10\n",
            "71/71 [==============================] - 1s 17ms/step - loss: 0.5016 - acc: 0.6766 - val_loss: 0.4886 - val_acc: 0.6900\n",
            "Epoch 6/10\n",
            "71/71 [==============================] - 1s 16ms/step - loss: 0.5015 - acc: 0.6766 - val_loss: 0.4888 - val_acc: 0.6900\n",
            "Epoch 7/10\n",
            "71/71 [==============================] - 1s 16ms/step - loss: 0.5014 - acc: 0.6766 - val_loss: 0.4888 - val_acc: 0.6900\n",
            "Epoch 8/10\n",
            "71/71 [==============================] - 1s 16ms/step - loss: 0.5015 - acc: 0.6766 - val_loss: 0.4890 - val_acc: 0.6900\n",
            "Epoch 9/10\n",
            "71/71 [==============================] - 1s 16ms/step - loss: 0.5016 - acc: 0.6766 - val_loss: 0.4886 - val_acc: 0.6900\n",
            "Epoch 10/10\n",
            "71/71 [==============================] - 1s 16ms/step - loss: 0.5016 - acc: 0.6766 - val_loss: 0.4884 - val_acc: 0.6900\n"
          ]
        }
      ]
    },
    {
      "cell_type": "code",
      "source": [
        "score = model.evaluate(X_test, y_test, verbose=1)\n",
        "\n",
        "print(\"Test Score:\", score[0])\n",
        "print(\"Test Accuracy:\", score[1])"
      ],
      "metadata": {
        "colab": {
          "base_uri": "https://localhost:8080/"
        },
        "id": "0uPalFFS6l2G",
        "outputId": "7d1ca6ca-ad21-4587-eda5-867e0ccee205"
      },
      "execution_count": 39,
      "outputs": [
        {
          "output_type": "stream",
          "name": "stdout",
          "text": [
            "174/174 [==============================] - 1s 6ms/step - loss: 0.4889 - acc: 0.6896\n",
            "Test Score: 0.48890629410743713\n",
            "Test Accuracy: 0.6896241903305054\n"
          ]
        }
      ]
    },
    {
      "cell_type": "code",
      "source": [
        "import matplotlib.pyplot as plt\n",
        "\n",
        "plt.plot(history.history['acc'])\n",
        "plt.plot(history.history['val_acc'])\n",
        "\n",
        "plt.title('model accuracy')\n",
        "plt.ylabel('accuracy')\n",
        "plt.xlabel('epoch')\n",
        "plt.legend(['train','test'], loc='upper left')\n",
        "plt.show()\n",
        "\n",
        "plt.plot(history.history['loss'])\n",
        "plt.plot(history.history['val_loss'])\n",
        "\n",
        "plt.title('model loss')\n",
        "plt.ylabel('loss')\n",
        "plt.xlabel('epoch')\n",
        "plt.legend(['train','test'], loc='upper left')\n",
        "plt.show()"
      ],
      "metadata": {
        "colab": {
          "base_uri": "https://localhost:8080/",
          "height": 573
        },
        "id": "JKGDY4cB64Z8",
        "outputId": "647033cb-7a16-4ec3-cd19-0618d89174f5"
      },
      "execution_count": 40,
      "outputs": [
        {
          "output_type": "display_data",
          "data": {
            "text/plain": [
              "<Figure size 432x288 with 1 Axes>"
            ],
            "image/png": "[encoded data removed]"
          },
          "metadata": {
            "needs_background": "light"
          }
        },
        {
          "output_type": "display_data",
          "data": {
            "text/plain": [
              "<Figure size 432x288 with 1 Axes>"
            ],
            "image/png": "[encoded data removed]"
          },
          "metadata": {
            "needs_background": "light"
          }
        }
      ]
    },
    {
      "cell_type": "code",
      "source": [
        "X_train, X_test, y_train, y_test = train_test_split(df_rnn['cleaned_text'], df_rnn[['none',\t'racism', 'sexism']], test_size=0.33, random_state=42)"
      ],
      "metadata": {
        "id": "FLZeVz-38JxU"
      },
      "execution_count": 41,
      "outputs": []
    },
    {
      "cell_type": "code",
      "source": [
        "# First output\n",
        "y1_train = y_train[[\"none\"]].values\n",
        "y1_test =  y_test[[\"none\"]].values\n",
        "\n",
        "# Second output\n",
        "y2_train = y_train[[\"sexism\"]].values\n",
        "y2_test =  y_test[[\"sexism\"]].values\n",
        "\n",
        "# Third output\n",
        "y3_train = y_train[[\"racism\"]].values\n",
        "y3_test =  y_test[[\"racism\"]].values"
      ],
      "metadata": {
        "id": "kBJS-chn7Kjp"
      },
      "execution_count": 42,
      "outputs": []
    },
    {
      "cell_type": "code",
      "source": [
        "tokenizer = Tokenizer(num_words=5000)\n",
        "tokenizer.fit_on_texts(X_train)\n",
        "\n",
        "X_train = tokenizer.texts_to_sequences(X_train)\n",
        "X_test = tokenizer.texts_to_sequences(X_test)\n",
        "\n",
        "vocab_size = len(tokenizer.word_index) + 1\n",
        "\n",
        "maxlen = 200\n",
        "\n",
        "X_train = pad_sequences(X_train, padding='post', maxlen=maxlen)\n",
        "X_test = pad_sequences(X_test, padding='post', maxlen=maxlen)"
      ],
      "metadata": {
        "id": "IHdb-R3F7TaG"
      },
      "execution_count": 43,
      "outputs": []
    },
    {
      "cell_type": "code",
      "source": [
        "glove_file = open('glove.6B.100d.txt', encoding=\"utf8\")\n",
        "\n",
        "for line in glove_file:\n",
        "    records = line.split()\n",
        "    word = records[0]\n",
        "    vector_dimensions = asarray(records[1:], dtype='float32')\n",
        "    embeddings_dictionary[word] = vector_dimensions\n",
        "glove_file.close()\n",
        "\n",
        "embedding_matrix = zeros((vocab_size, 100))\n",
        "for word, index in tokenizer.word_index.items():\n",
        "    embedding_vector = embeddings_dictionary.get(word)\n",
        "    if embedding_vector is not None:\n",
        "        embedding_matrix[index] = embedding_vector"
      ],
      "metadata": {
        "id": "22ctYWOG8MVu"
      },
      "execution_count": 44,
      "outputs": []
    },
    {
      "cell_type": "code",
      "source": [
        "input_1 = Input(shape=(maxlen,))\n",
        "embedding_layer = Embedding(vocab_size, 100, weights=[embedding_matrix], trainable=False)(input_1)\n",
        "LSTM_Layer1 = LSTM(128)(embedding_layer)\n",
        "\n",
        "output1 = Dense(1, activation='sigmoid')(LSTM_Layer1)\n",
        "output2 = Dense(1, activation='sigmoid')(LSTM_Layer1)\n",
        "output3 = Dense(1, activation='sigmoid')(LSTM_Layer1)\n",
        "\n",
        "model = Model(inputs=input_1, outputs=[output1, output2, output3])\n",
        "model.compile(loss='binary_crossentropy', optimizer='adam', metrics=['acc'])"
      ],
      "metadata": {
        "id": "QzDVS4kI8RJ7"
      },
      "execution_count": 45,
      "outputs": []
    },
    {
      "cell_type": "code",
      "source": [
        "from keras.utils.vis_utils import plot_model\n",
        "plot_model(model, to_file='model_plot4b.png', show_shapes=True, show_layer_names=True)"
      ],
      "metadata": {
        "colab": {
          "base_uri": "https://localhost:8080/",
          "height": 329
        },
        "id": "hTlEItCe8ZJj",
        "outputId": "d47da9e3-16a0-4c62-d4b6-1837ef6a4709"
      },
      "execution_count": 46,
      "outputs": [
        {
          "output_type": "execute_result",
          "data": {
            "image/png": "[encoded data removed]",
            "text/plain": [
              "<IPython.core.display.Image object>"
            ]
          },
          "metadata": {},
          "execution_count": 46
        }
      ]
    },
    {
      "cell_type": "code",
      "source": [
        "history = model.fit(x=X_train, y=[y1_train, y2_train, y3_train], batch_size=8192, epochs=20, verbose=1, validation_split=0.2)\n"
      ],
      "metadata": {
        "colab": {
          "base_uri": "https://localhost:8080/"
        },
        "id": "bltYMDtu8iw4",
        "outputId": "4a5d7536-5608-431f-a851-59f561927586"
      },
      "execution_count": 47,
      "outputs": [
        {
          "output_type": "stream",
          "name": "stdout",
          "text": [
            "Epoch 1/20\n",
            "2/2 [==============================] - 4s 649ms/step - loss: 2.0787 - dense_3_loss: 0.6931 - dense_4_loss: 0.6929 - dense_5_loss: 0.6927 - dense_3_acc: 0.3576 - dense_4_acc: 0.7944 - dense_5_acc: 0.8836 - val_loss: 2.0618 - val_dense_3_loss: 0.6912 - val_dense_4_loss: 0.6872 - val_dense_5_loss: 0.6834 - val_dense_3_acc: 0.6997 - val_dense_4_acc: 0.8153 - val_dense_5_acc: 0.8844\n",
            "Epoch 2/20\n",
            "2/2 [==============================] - 1s 123ms/step - loss: 2.0613 - dense_3_loss: 0.6913 - dense_4_loss: 0.6872 - dense_5_loss: 0.6828 - dense_3_acc: 0.6780 - dense_4_acc: 0.7944 - dense_5_acc: 0.8836 - val_loss: 2.0336 - val_dense_3_loss: 0.6881 - val_dense_4_loss: 0.6776 - val_dense_5_loss: 0.6680 - val_dense_3_acc: 0.6997 - val_dense_4_acc: 0.8153 - val_dense_5_acc: 0.8844\n",
            "Epoch 3/20\n",
            "2/2 [==============================] - 1s 122ms/step - loss: 2.0333 - dense_3_loss: 0.6885 - dense_4_loss: 0.6780 - dense_5_loss: 0.6669 - dense_3_acc: 0.6780 - dense_4_acc: 0.7944 - dense_5_acc: 0.8836 - val_loss: 1.9796 - val_dense_3_loss: 0.6822 - val_dense_4_loss: 0.6591 - val_dense_5_loss: 0.6384 - val_dense_3_acc: 0.6997 - val_dense_4_acc: 0.8153 - val_dense_5_acc: 0.8844\n",
            "Epoch 4/20\n",
            "2/2 [==============================] - 1s 123ms/step - loss: 1.9787 - dense_3_loss: 0.6829 - dense_4_loss: 0.6601 - dense_5_loss: 0.6357 - dense_3_acc: 0.6780 - dense_4_acc: 0.7944 - dense_5_acc: 0.8836 - val_loss: 1.8340 - val_dense_3_loss: 0.6660 - val_dense_4_loss: 0.6089 - val_dense_5_loss: 0.5590 - val_dense_3_acc: 0.6997 - val_dense_4_acc: 0.8153 - val_dense_5_acc: 0.8844\n",
            "Epoch 5/20\n",
            "2/2 [==============================] - 1s 126ms/step - loss: 1.8238 - dense_3_loss: 0.6672 - dense_4_loss: 0.6088 - dense_5_loss: 0.5477 - dense_3_acc: 0.6780 - dense_4_acc: 0.7944 - dense_5_acc: 0.8836 - val_loss: 1.5029 - val_dense_3_loss: 0.6160 - val_dense_4_loss: 0.5031 - val_dense_5_loss: 0.3838 - val_dense_3_acc: 0.6997 - val_dense_4_acc: 0.8153 - val_dense_5_acc: 0.8844\n",
            "Epoch 6/20\n",
            "2/2 [==============================] - 1s 127ms/step - loss: 1.5754 - dense_3_loss: 0.6398 - dense_4_loss: 0.5482 - dense_5_loss: 0.3875 - dense_3_acc: 0.6780 - dense_4_acc: 0.7944 - dense_5_acc: 0.8836 - val_loss: 1.4969 - val_dense_3_loss: 0.6145 - val_dense_4_loss: 0.4981 - val_dense_5_loss: 0.3842 - val_dense_3_acc: 0.6997 - val_dense_4_acc: 0.8153 - val_dense_5_acc: 0.8844\n",
            "Epoch 7/20\n",
            "2/2 [==============================] - 1s 132ms/step - loss: 1.5592 - dense_3_loss: 0.6361 - dense_4_loss: 0.5383 - dense_5_loss: 0.3848 - dense_3_acc: 0.6780 - dense_4_acc: 0.7944 - dense_5_acc: 0.8836 - val_loss: 1.4514 - val_dense_3_loss: 0.6144 - val_dense_4_loss: 0.4789 - val_dense_5_loss: 0.3581 - val_dense_3_acc: 0.6997 - val_dense_4_acc: 0.8153 - val_dense_5_acc: 0.8844\n",
            "Epoch 8/20\n",
            "2/2 [==============================] - 1s 150ms/step - loss: 1.4977 - dense_3_loss: 0.6292 - dense_4_loss: 0.5086 - dense_5_loss: 0.3599 - dense_3_acc: 0.6780 - dense_4_acc: 0.7944 - dense_5_acc: 0.8836 - val_loss: 1.4907 - val_dense_3_loss: 0.6247 - val_dense_4_loss: 0.4944 - val_dense_5_loss: 0.3716 - val_dense_3_acc: 0.6997 - val_dense_4_acc: 0.8153 - val_dense_5_acc: 0.8844\n",
            "Epoch 9/20\n",
            "2/2 [==============================] - 1s 123ms/step - loss: 1.5250 - dense_3_loss: 0.6355 - dense_4_loss: 0.5164 - dense_5_loss: 0.3730 - dense_3_acc: 0.6780 - dense_4_acc: 0.7944 - dense_5_acc: 0.8836 - val_loss: 1.4887 - val_dense_3_loss: 0.6239 - val_dense_4_loss: 0.4954 - val_dense_5_loss: 0.3694 - val_dense_3_acc: 0.6997 - val_dense_4_acc: 0.8153 - val_dense_5_acc: 0.8844\n",
            "Epoch 10/20\n",
            "2/2 [==============================] - 1s 127ms/step - loss: 1.5217 - dense_3_loss: 0.6347 - dense_4_loss: 0.5167 - dense_5_loss: 0.3702 - dense_3_acc: 0.6780 - dense_4_acc: 0.7944 - dense_5_acc: 0.8836 - val_loss: 1.4648 - val_dense_3_loss: 0.6177 - val_dense_4_loss: 0.4870 - val_dense_5_loss: 0.3601 - val_dense_3_acc: 0.6997 - val_dense_4_acc: 0.8153 - val_dense_5_acc: 0.8844\n",
            "Epoch 11/20\n",
            "2/2 [==============================] - 1s 141ms/step - loss: 1.5031 - dense_3_loss: 0.6306 - dense_4_loss: 0.5111 - dense_5_loss: 0.3614 - dense_3_acc: 0.6780 - dense_4_acc: 0.7944 - dense_5_acc: 0.8836 - val_loss: 1.4526 - val_dense_3_loss: 0.6131 - val_dense_4_loss: 0.4813 - val_dense_5_loss: 0.3582 - val_dense_3_acc: 0.6997 - val_dense_4_acc: 0.8153 - val_dense_5_acc: 0.8844\n",
            "Epoch 12/20\n",
            "2/2 [==============================] - 1s 123ms/step - loss: 1.4970 - dense_3_loss: 0.6286 - dense_4_loss: 0.5084 - dense_5_loss: 0.3600 - dense_3_acc: 0.6780 - dense_4_acc: 0.7944 - dense_5_acc: 0.8836 - val_loss: 1.4512 - val_dense_3_loss: 0.6114 - val_dense_4_loss: 0.4792 - val_dense_5_loss: 0.3606 - val_dense_3_acc: 0.6997 - val_dense_4_acc: 0.8153 - val_dense_5_acc: 0.8844\n",
            "Epoch 13/20\n",
            "2/2 [==============================] - 1s 126ms/step - loss: 1.4993 - dense_3_loss: 0.6286 - dense_4_loss: 0.5082 - dense_5_loss: 0.3625 - dense_3_acc: 0.6780 - dense_4_acc: 0.7944 - dense_5_acc: 0.8836 - val_loss: 1.4518 - val_dense_3_loss: 0.6111 - val_dense_4_loss: 0.4788 - val_dense_5_loss: 0.3619 - val_dense_3_acc: 0.6997 - val_dense_4_acc: 0.8153 - val_dense_5_acc: 0.8844\n",
            "Epoch 14/20\n",
            "2/2 [==============================] - 1s 127ms/step - loss: 1.5011 - dense_3_loss: 0.6290 - dense_4_loss: 0.5084 - dense_5_loss: 0.3637 - dense_3_acc: 0.6780 - dense_4_acc: 0.7944 - dense_5_acc: 0.8836 - val_loss: 1.4511 - val_dense_3_loss: 0.6112 - val_dense_4_loss: 0.4789 - val_dense_5_loss: 0.3610 - val_dense_3_acc: 0.6997 - val_dense_4_acc: 0.8153 - val_dense_5_acc: 0.8844\n",
            "Epoch 15/20\n",
            "2/2 [==============================] - 1s 125ms/step - loss: 1.4999 - dense_3_loss: 0.6289 - dense_4_loss: 0.5084 - dense_5_loss: 0.3627 - dense_3_acc: 0.6780 - dense_4_acc: 0.7944 - dense_5_acc: 0.8836 - val_loss: 1.4501 - val_dense_3_loss: 0.6115 - val_dense_4_loss: 0.4792 - val_dense_5_loss: 0.3594 - val_dense_3_acc: 0.6997 - val_dense_4_acc: 0.8153 - val_dense_5_acc: 0.8844\n",
            "Epoch 16/20\n",
            "2/2 [==============================] - 1s 124ms/step - loss: 1.4977 - dense_3_loss: 0.6285 - dense_4_loss: 0.5081 - dense_5_loss: 0.3611 - dense_3_acc: 0.6780 - dense_4_acc: 0.7944 - dense_5_acc: 0.8836 - val_loss: 1.4500 - val_dense_3_loss: 0.6119 - val_dense_4_loss: 0.4798 - val_dense_5_loss: 0.3583 - val_dense_3_acc: 0.6997 - val_dense_4_acc: 0.8153 - val_dense_5_acc: 0.8844\n",
            "Epoch 17/20\n",
            "2/2 [==============================] - 1s 122ms/step - loss: 1.4963 - dense_3_loss: 0.6284 - dense_4_loss: 0.5081 - dense_5_loss: 0.3599 - dense_3_acc: 0.6780 - dense_4_acc: 0.7944 - dense_5_acc: 0.8836 - val_loss: 1.4510 - val_dense_3_loss: 0.6126 - val_dense_4_loss: 0.4805 - val_dense_5_loss: 0.3580 - val_dense_3_acc: 0.6997 - val_dense_4_acc: 0.8153 - val_dense_5_acc: 0.8844\n",
            "Epoch 18/20\n",
            "2/2 [==============================] - 1s 215ms/step - loss: 1.4961 - dense_3_loss: 0.6284 - dense_4_loss: 0.5082 - dense_5_loss: 0.3596 - dense_3_acc: 0.6780 - dense_4_acc: 0.7944 - dense_5_acc: 0.8836 - val_loss: 1.4510 - val_dense_3_loss: 0.6127 - val_dense_4_loss: 0.4812 - val_dense_5_loss: 0.3571 - val_dense_3_acc: 0.7002 - val_dense_4_acc: 0.8149 - val_dense_5_acc: 0.8849\n",
            "Epoch 19/20\n",
            "2/2 [==============================] - 1s 126ms/step - loss: 1.4938 - dense_3_loss: 0.6274 - dense_4_loss: 0.5103 - dense_5_loss: 0.3562 - dense_3_acc: 0.6791 - dense_4_acc: 0.7924 - dense_5_acc: 0.8847 - val_loss: 1.4386 - val_dense_3_loss: 0.6000 - val_dense_4_loss: 0.5185 - val_dense_5_loss: 0.3201 - val_dense_3_acc: 0.7183 - val_dense_4_acc: 0.7768 - val_dense_5_acc: 0.9026\n",
            "Epoch 20/20\n",
            "2/2 [==============================] - 1s 218ms/step - loss: 1.4783 - dense_3_loss: 0.6140 - dense_4_loss: 0.5454 - dense_5_loss: 0.3188 - dense_3_acc: 0.6995 - dense_4_acc: 0.7565 - dense_5_acc: 0.9027 - val_loss: 1.4376 - val_dense_3_loss: 0.6083 - val_dense_4_loss: 0.4856 - val_dense_5_loss: 0.3436 - val_dense_3_acc: 0.7006 - val_dense_4_acc: 0.8144 - val_dense_5_acc: 0.8853\n"
          ]
        }
      ]
    },
    {
      "cell_type": "code",
      "source": [
        "score = model.evaluate(x=X_test, y=[y1_test, y2_test, y3_test], verbose=1)\n",
        "\n",
        "print(\"Test Score:\", score[0])\n",
        "print(\"Test Accuracy:\", score[1])"
      ],
      "metadata": {
        "colab": {
          "base_uri": "https://localhost:8080/"
        },
        "id": "t-8sdHtm8pNh",
        "outputId": "640ebaa9-92aa-40fc-9d5a-5db03f69e41a"
      },
      "execution_count": 48,
      "outputs": [
        {
          "output_type": "stream",
          "name": "stdout",
          "text": [
            "174/174 [==============================] - 1s 8ms/step - loss: 1.4732 - dense_3_loss: 0.6204 - dense_4_loss: 0.5032 - dense_5_loss: 0.3497 - dense_3_acc: 0.6839 - dense_4_acc: 0.8011 - dense_5_acc: 0.8822\n",
            "Test Score: 1.4732434749603271\n",
            "Test Accuracy: 0.6204127669334412\n"
          ]
        }
      ]
    },
    {
      "cell_type": "code",
      "source": [
        "import matplotlib.pyplot as plt\n",
        "\n",
        "plt.plot(history.history['acc'])\n",
        "plt.plot(history.history['val_acc'])\n",
        "\n",
        "plt.title('model accuracy')\n",
        "plt.ylabel('accuracy')\n",
        "plt.xlabel('epoch')\n",
        "plt.legend(['train','test'], loc='upper left')\n",
        "plt.show()\n",
        "\n",
        "plt.plot(history.history['loss'])\n",
        "plt.plot(history.history['val_loss'])\n",
        "\n",
        "plt.title('model loss')\n",
        "plt.ylabel('loss')\n",
        "plt.xlabel('epoch')\n",
        "plt.legend(['train','test'], loc='upper left')\n",
        "plt.show()"
      ],
      "metadata": {
        "id": "84zo8IZP9BCS",
        "outputId": "d7a51bec-8ef2-4af2-b69b-02e239339686",
        "colab": {
          "base_uri": "https://localhost:8080/",
          "height": 235
        }
      },
      "execution_count": null,
      "outputs": [
        {
          "output_type": "error",
          "ename": "KeyError",
          "evalue": "ignored",
          "traceback": [
            "\u001b[0;31m---------------------------------------------------------------------------\u001b[0m",
            "\u001b[0;31mKeyError\u001b[0m                                  Traceback (most recent call last)",
            "\u001b[0;32m<ipython-input-66-d59b59ae9440>\u001b[0m in \u001b[0;36m<module>\u001b[0;34m\u001b[0m\n\u001b[1;32m      1\u001b[0m \u001b[0;32mimport\u001b[0m \u001b[0mmatplotlib\u001b[0m\u001b[0;34m.\u001b[0m\u001b[0mpyplot\u001b[0m \u001b[0;32mas\u001b[0m \u001b[0mplt\u001b[0m\u001b[0;34m\u001b[0m\u001b[0;34m\u001b[0m\u001b[0m\n\u001b[1;32m      2\u001b[0m \u001b[0;34m\u001b[0m\u001b[0m\n\u001b[0;32m----> 3\u001b[0;31m \u001b[0mplt\u001b[0m\u001b[0;34m.\u001b[0m\u001b[0mplot\u001b[0m\u001b[0;34m(\u001b[0m\u001b[0mhistory\u001b[0m\u001b[0;34m.\u001b[0m\u001b[0mhistory\u001b[0m\u001b[0;34m[\u001b[0m\u001b[0;34m'acc'\u001b[0m\u001b[0;34m]\u001b[0m\u001b[0;34m)\u001b[0m\u001b[0;34m\u001b[0m\u001b[0;34m\u001b[0m\u001b[0m\n\u001b[0m\u001b[1;32m      4\u001b[0m \u001b[0mplt\u001b[0m\u001b[0;34m.\u001b[0m\u001b[0mplot\u001b[0m\u001b[0;34m(\u001b[0m\u001b[0mhistory\u001b[0m\u001b[0;34m.\u001b[0m\u001b[0mhistory\u001b[0m\u001b[0;34m[\u001b[0m\u001b[0;34m'val_acc'\u001b[0m\u001b[0;34m]\u001b[0m\u001b[0;34m)\u001b[0m\u001b[0;34m\u001b[0m\u001b[0;34m\u001b[0m\u001b[0m\n\u001b[1;32m      5\u001b[0m \u001b[0;34m\u001b[0m\u001b[0m\n",
            "\u001b[0;31mKeyError\u001b[0m: 'acc'"
          ]
        }
      ]
    }
  ]
}